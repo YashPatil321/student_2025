{
 "cells": [
  {
   "cell_type": "raw",
   "metadata": {
    "vscode": {
     "languageId": "raw"
    }
   },
   "source": [
    "---\n",
    "layout: post\n",
    "title: Stuggles page\n",
    "permalink: /struggles/\n",
    "---"
   ]
  },
  {
   "cell_type": "code",
   "execution_count": null,
   "metadata": {},
   "outputs": [],
   "source": [
    "\n",
    "  <p>This is a button</p>\n",
    "  <button>Button</button>\n",
    "\n",
    "  <div style=\"padding-top: 33px;\">\n",
    "    <a href=\"./navigation/liverpool.md\" style=\"display: inline-block; padding: 10px 60px; background-color: red; color: black; text-decoration: underline; border-radius: 5px;\">Liverpool FC</a>\n",
    "  <div>\n",
    "\n"
   ]
  },
  {
   "cell_type": "markdown",
   "metadata": {
    "vscode": {
     "languageId": "raw"
    }
   },
   "source": [
    "  <p>This problem occcured during when I was working on creating colored buttons for my index.md home page I was trying to create a liverpool.md button that links to the page but it wasnt working. I was getting errors and to fix it I realized I had to add a slash in the end of the div so I added a slash. Another problem was that the file path to the liverpool.md had to be in html to fix it so I did that. Below is the fixed code which works. I used my debugging, researching, and teamwork skills to fix this problem</p>\n",
    "  <p>This is a button</p>\n",
    "  <button>Button</button>\n",
    "\n",
    "  <div style=\"padding-top: 33px;\">\n",
    "    <a href=\"./navigation/liverpool.html\" style=\"display: inline-block; padding: 10px 60px; background-color: red; color: black; text-decoration: underline; border-radius: 5px;\">Liverpool FC</a>\n",
    "  <div>\n",
    "\n",
    "\n"
   ]
  }
 ],
 "metadata": {
  "kernelspec": {
   "display_name": "Python 3",
   "language": "python",
   "name": "python3"
  },
  "language_info": {
   "codemirror_mode": {
    "name": "ipython",
    "version": 3
   },
   "file_extension": ".py",
   "mimetype": "text/x-python",
   "name": "python",
   "nbconvert_exporter": "python",
   "pygments_lexer": "ipython3",
   "version": "3.10.12"
  }
 },
 "nbformat": 4,
 "nbformat_minor": 2
}

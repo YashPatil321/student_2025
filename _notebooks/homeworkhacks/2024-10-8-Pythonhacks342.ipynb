{
 "cells": [
  {
   "cell_type": "markdown",
   "metadata": {},
   "source": [
    "---\n",
    "layout: post\n",
    "title: 3.4.2 Javascript Hacks\n",
    "description: Homework Hacks\n",
    "comments: true\n",
    "---"
   ]
  },
  {
   "cell_type": "code",
   "execution_count": 7,
   "metadata": {},
   "outputs": [
    {
     "name": "stdout",
     "output_type": "stream",
     "text": [
      "['Algeria', 'Angola', 'Benin', 'Botswana', 'Burkina Faso', 'Burundi', 'Cabo Verde', 'Cameroon', 'Central African Republic', 'Chad', 'Comoros', 'Congo (Congo-Brazzaville)', 'Cote d’Ivoire', 'Djibouti', 'DR Congo (Congo-Kinshasa)', 'Egypt', 'Equatorial Guinea', 'Eritrea', 'Eswatini', 'Ethiopia', 'Gabon', 'Gambia', 'Ghana', 'Guinea', 'Guinea-Bissau', 'Kenya', 'Lesotho', 'Liberia', 'Libya', 'Madagascar', 'Malawi', 'Mali', 'Mauritania', 'Mauritius', 'Morocco', 'Mozambique', 'Namibia', 'Niger', 'Nigeria', 'Rwanda', 'Sao Tome and Principe', 'Senegal', 'Seychelles', 'Sierra Leone', 'Somalia', 'South Africa', 'South Sudan', 'Sudan', 'Tanzania', 'Togo', 'Tunisia', 'Uganda', 'Zambia', 'Zimbabwe']\n"
     ]
    }
   ],
   "source": [
    "#HACK ONE\n",
    "# Step 1: Initialize the string of African countries\n",
    "african_countries = \"Algeria, Angola, Benin, Botswana, Burkina Faso, Burundi, Cabo Verde, Cameroon, Central African Republic, Chad, Comoros, Congo (Congo-Brazzaville), Cote d’Ivoire, Djibouti, DR Congo (Congo-Kinshasa), Egypt, Equatorial Guinea, Eritrea, Eswatini, Ethiopia, Gabon, Gambia, Ghana, Guinea, Guinea-Bissau, Kenya, Lesotho, Liberia, Libya, Madagascar, Malawi, Mali, Mauritania, Mauritius, Morocco, Mozambique, Namibia, Niger, Nigeria, Rwanda, Sao Tome and Principe, Senegal, Seychelles, Sierra Leone, Somalia, South Africa, South Sudan, Sudan, Tanzania, Togo, Tunisia, Uganda, Zambia, Zimbabwe\"\n",
    "\n",
    "# Step 2: Use the split() method to convert the string into an array (list)\n",
    "african_countries_list = african_countries.split(\", \")\n",
    "\n",
    "# Step 3: Print the resulting list\n",
    "print(african_countries_list)\n"
   ]
  },
  {
   "cell_type": "code",
   "execution_count": 8,
   "metadata": {},
   "outputs": [
    {
     "name": "stdout",
     "output_type": "stream",
     "text": [
      "Hello yash! You are 16 years old, love to eat pizza, and enjoy reading percy jackson.\n"
     ]
    }
   ],
   "source": [
    "#HACK TWO\n",
    "# Step 1: Prompt the user for their information\n",
    "name = input(\"Please enter your name: \")\n",
    "age = input(\"Please enter your age: \")\n",
    "favorite_food = input(\"Please enter your favorite food: \")\n",
    "favorite_book = input(\"Please enter your favorite book: \")\n",
    "\n",
    "# Step 2: Create a cohesive message using string concatenation or interpolation\n",
    "message = f\"Hello {name}! You are {age} years old, love to eat {favorite_food}, and enjoy reading {favorite_book}.\"\n",
    "\n",
    "# Step 3: Print the personalized message\n",
    "print(message)\n"
   ]
  },
  {
   "cell_type": "code",
   "execution_count": 10,
   "metadata": {},
   "outputs": [
    {
     "name": "stdout",
     "output_type": "stream",
     "text": [
      "The secret to life is (redacted)\n"
     ]
    }
   ],
   "source": [
    "#HACK 3A\n",
    "# Step 1: Initialize the noisy string\n",
    "noisy_message = \"The...secret...to...life...is...(redacted)\"\n",
    "\n",
    "# Step 2: Use the replace() method to remove the \"...\" between words\n",
    "clean_message = noisy_message.replace(\"...\", \" \")\n",
    "\n",
    "# Step 3: Print the cleaned-up message\n",
    "print(clean_message)\n"
   ]
  },
  {
   "cell_type": "code",
   "execution_count": null,
   "metadata": {},
   "outputs": [],
   "source": [
    "#HACK 3B\n",
    "# Step 1: Prompt the user for input\n",
    "user_input = input(\"Enter your message: \")\n",
    "\n",
    "# Step 2: Use the replace() method to remove the \"...\"\n",
    "cleaned_input = user_input.replace(\"...\", \" \")\n",
    "\n",
    "# Step 3: Print the cleaned-up message\n",
    "print(cleaned_input)\n",
    "\n",
    "\n"
   ]
  }
 ],
 "metadata": {
  "kernelspec": {
   "display_name": "Python 3",
   "language": "python",
   "name": "python3"
  },
  "language_info": {
   "codemirror_mode": {
    "name": "ipython",
    "version": 3
   },
   "file_extension": ".py",
   "mimetype": "text/x-python",
   "name": "python",
   "nbconvert_exporter": "python",
   "pygments_lexer": "ipython3",
   "version": "3.10.12"
  }
 },
 "nbformat": 4,
 "nbformat_minor": 2
}
